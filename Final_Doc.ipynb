{
 "cells": [
  {
   "cell_type": "markdown",
   "id": "f9d6870b-ab73-4744-882b-fda5943d2cef",
   "metadata": {},
   "source": [
    " # Milestone 2 – Data Transformation & Cleansing (Flat File) - Credit Card dataset"
   ]
  },
  {
   "cell_type": "markdown",
   "id": "f77ae295-15f0-4ab1-83ba-cdcc81336784",
   "metadata": {},
   "source": [
    "**Load Dataset for cleansing:**"
   ]
  },
  {
   "cell_type": "code",
   "execution_count": 9,
   "id": "b8d14652-4663-4cde-9cfa-99306f8712a5",
   "metadata": {},
   "outputs": [
    {
     "data": {
      "text/html": [
       "<div>\n",
       "<style scoped>\n",
       "    .dataframe tbody tr th:only-of-type {\n",
       "        vertical-align: middle;\n",
       "    }\n",
       "\n",
       "    .dataframe tbody tr th {\n",
       "        vertical-align: top;\n",
       "    }\n",
       "\n",
       "    .dataframe thead th {\n",
       "        text-align: right;\n",
       "    }\n",
       "</style>\n",
       "<table border=\"1\" class=\"dataframe\">\n",
       "  <thead>\n",
       "    <tr style=\"text-align: right;\">\n",
       "      <th></th>\n",
       "      <th>Time</th>\n",
       "      <th>V1</th>\n",
       "      <th>V2</th>\n",
       "      <th>V3</th>\n",
       "      <th>V4</th>\n",
       "      <th>V5</th>\n",
       "      <th>V6</th>\n",
       "      <th>V7</th>\n",
       "      <th>V8</th>\n",
       "      <th>V9</th>\n",
       "      <th>...</th>\n",
       "      <th>V21</th>\n",
       "      <th>V22</th>\n",
       "      <th>V23</th>\n",
       "      <th>V24</th>\n",
       "      <th>V25</th>\n",
       "      <th>V26</th>\n",
       "      <th>V27</th>\n",
       "      <th>V28</th>\n",
       "      <th>Amount</th>\n",
       "      <th>Class</th>\n",
       "    </tr>\n",
       "  </thead>\n",
       "  <tbody>\n",
       "    <tr>\n",
       "      <th>0</th>\n",
       "      <td>0.0</td>\n",
       "      <td>-1.359807</td>\n",
       "      <td>-0.072781</td>\n",
       "      <td>2.536347</td>\n",
       "      <td>1.378155</td>\n",
       "      <td>-0.338321</td>\n",
       "      <td>0.462388</td>\n",
       "      <td>0.239599</td>\n",
       "      <td>0.098698</td>\n",
       "      <td>0.363787</td>\n",
       "      <td>...</td>\n",
       "      <td>-0.018307</td>\n",
       "      <td>0.277838</td>\n",
       "      <td>-0.110474</td>\n",
       "      <td>0.066928</td>\n",
       "      <td>0.128539</td>\n",
       "      <td>-0.189115</td>\n",
       "      <td>0.133558</td>\n",
       "      <td>-0.021053</td>\n",
       "      <td>149.62</td>\n",
       "      <td>0</td>\n",
       "    </tr>\n",
       "    <tr>\n",
       "      <th>1</th>\n",
       "      <td>0.0</td>\n",
       "      <td>1.191857</td>\n",
       "      <td>0.266151</td>\n",
       "      <td>0.166480</td>\n",
       "      <td>0.448154</td>\n",
       "      <td>0.060018</td>\n",
       "      <td>-0.082361</td>\n",
       "      <td>-0.078803</td>\n",
       "      <td>0.085102</td>\n",
       "      <td>-0.255425</td>\n",
       "      <td>...</td>\n",
       "      <td>-0.225775</td>\n",
       "      <td>-0.638672</td>\n",
       "      <td>0.101288</td>\n",
       "      <td>-0.339846</td>\n",
       "      <td>0.167170</td>\n",
       "      <td>0.125895</td>\n",
       "      <td>-0.008983</td>\n",
       "      <td>0.014724</td>\n",
       "      <td>2.69</td>\n",
       "      <td>0</td>\n",
       "    </tr>\n",
       "    <tr>\n",
       "      <th>2</th>\n",
       "      <td>1.0</td>\n",
       "      <td>-1.358354</td>\n",
       "      <td>-1.340163</td>\n",
       "      <td>1.773209</td>\n",
       "      <td>0.379780</td>\n",
       "      <td>-0.503198</td>\n",
       "      <td>1.800499</td>\n",
       "      <td>0.791461</td>\n",
       "      <td>0.247676</td>\n",
       "      <td>-1.514654</td>\n",
       "      <td>...</td>\n",
       "      <td>0.247998</td>\n",
       "      <td>0.771679</td>\n",
       "      <td>0.909412</td>\n",
       "      <td>-0.689281</td>\n",
       "      <td>-0.327642</td>\n",
       "      <td>-0.139097</td>\n",
       "      <td>-0.055353</td>\n",
       "      <td>-0.059752</td>\n",
       "      <td>378.66</td>\n",
       "      <td>0</td>\n",
       "    </tr>\n",
       "    <tr>\n",
       "      <th>3</th>\n",
       "      <td>1.0</td>\n",
       "      <td>-0.966272</td>\n",
       "      <td>-0.185226</td>\n",
       "      <td>1.792993</td>\n",
       "      <td>-0.863291</td>\n",
       "      <td>-0.010309</td>\n",
       "      <td>1.247203</td>\n",
       "      <td>0.237609</td>\n",
       "      <td>0.377436</td>\n",
       "      <td>-1.387024</td>\n",
       "      <td>...</td>\n",
       "      <td>-0.108300</td>\n",
       "      <td>0.005274</td>\n",
       "      <td>-0.190321</td>\n",
       "      <td>-1.175575</td>\n",
       "      <td>0.647376</td>\n",
       "      <td>-0.221929</td>\n",
       "      <td>0.062723</td>\n",
       "      <td>0.061458</td>\n",
       "      <td>123.50</td>\n",
       "      <td>0</td>\n",
       "    </tr>\n",
       "    <tr>\n",
       "      <th>4</th>\n",
       "      <td>2.0</td>\n",
       "      <td>-1.158233</td>\n",
       "      <td>0.877737</td>\n",
       "      <td>1.548718</td>\n",
       "      <td>0.403034</td>\n",
       "      <td>-0.407193</td>\n",
       "      <td>0.095921</td>\n",
       "      <td>0.592941</td>\n",
       "      <td>-0.270533</td>\n",
       "      <td>0.817739</td>\n",
       "      <td>...</td>\n",
       "      <td>-0.009431</td>\n",
       "      <td>0.798278</td>\n",
       "      <td>-0.137458</td>\n",
       "      <td>0.141267</td>\n",
       "      <td>-0.206010</td>\n",
       "      <td>0.502292</td>\n",
       "      <td>0.219422</td>\n",
       "      <td>0.215153</td>\n",
       "      <td>69.99</td>\n",
       "      <td>0</td>\n",
       "    </tr>\n",
       "  </tbody>\n",
       "</table>\n",
       "<p>5 rows × 31 columns</p>\n",
       "</div>"
      ],
      "text/plain": [
       "   Time        V1        V2        V3        V4        V5        V6        V7  \\\n",
       "0   0.0 -1.359807 -0.072781  2.536347  1.378155 -0.338321  0.462388  0.239599   \n",
       "1   0.0  1.191857  0.266151  0.166480  0.448154  0.060018 -0.082361 -0.078803   \n",
       "2   1.0 -1.358354 -1.340163  1.773209  0.379780 -0.503198  1.800499  0.791461   \n",
       "3   1.0 -0.966272 -0.185226  1.792993 -0.863291 -0.010309  1.247203  0.237609   \n",
       "4   2.0 -1.158233  0.877737  1.548718  0.403034 -0.407193  0.095921  0.592941   \n",
       "\n",
       "         V8        V9  ...       V21       V22       V23       V24       V25  \\\n",
       "0  0.098698  0.363787  ... -0.018307  0.277838 -0.110474  0.066928  0.128539   \n",
       "1  0.085102 -0.255425  ... -0.225775 -0.638672  0.101288 -0.339846  0.167170   \n",
       "2  0.247676 -1.514654  ...  0.247998  0.771679  0.909412 -0.689281 -0.327642   \n",
       "3  0.377436 -1.387024  ... -0.108300  0.005274 -0.190321 -1.175575  0.647376   \n",
       "4 -0.270533  0.817739  ... -0.009431  0.798278 -0.137458  0.141267 -0.206010   \n",
       "\n",
       "        V26       V27       V28  Amount  Class  \n",
       "0 -0.189115  0.133558 -0.021053  149.62      0  \n",
       "1  0.125895 -0.008983  0.014724    2.69      0  \n",
       "2 -0.139097 -0.055353 -0.059752  378.66      0  \n",
       "3 -0.221929  0.062723  0.061458  123.50      0  \n",
       "4  0.502292  0.219422  0.215153   69.99      0  \n",
       "\n",
       "[5 rows x 31 columns]"
      ]
     },
     "execution_count": 9,
     "metadata": {},
     "output_type": "execute_result"
    }
   ],
   "source": [
    "import pandas as pd\n",
    "\n",
    "# Load the flat file\n",
    "df = pd.read_csv(\"C:/Users/aksha/Downloads/creditcard.csv\")\n",
    "df.head()"
   ]
  },
  {
   "cell_type": "markdown",
   "id": "c91df99e-c482-420a-8829-5fa073f914b9",
   "metadata": {},
   "source": [
    "**Step # 1 – Rename Columns for Clarity**"
   ]
  },
  {
   "cell_type": "code",
   "execution_count": 12,
   "id": "71e04f2d-8e27-4488-8a95-a3c571d18b59",
   "metadata": {},
   "outputs": [],
   "source": [
    "df.rename(columns={'Time': 'Transaction_Time', 'Amount': 'Transaction_Amount'}, inplace=True)"
   ]
  },
  {
   "cell_type": "markdown",
   "id": "cc1d9c94-6006-4ecc-9de7-7b09dc3674bb",
   "metadata": {},
   "source": [
    "**Step # 2 – Detect and Remove Duplicates**"
   ]
  },
  {
   "cell_type": "code",
   "execution_count": 15,
   "id": "d2a379d8-722d-422c-a3de-a86bbc5e0001",
   "metadata": {},
   "outputs": [],
   "source": [
    "duplicates = df.duplicated().sum()\n",
    "df = df.drop_duplicates()"
   ]
  },
  {
   "cell_type": "markdown",
   "id": "c805f08d-fbdb-4d7b-86d4-76d7f08a5b3d",
   "metadata": {},
   "source": [
    "**Step # 3 – Identify and Remove Outliers in Transaction Amount**"
   ]
  },
  {
   "cell_type": "code",
   "execution_count": 17,
   "id": "eddc56b4-8ef0-4ee3-88dd-db9c5507c0f6",
   "metadata": {},
   "outputs": [],
   "source": [
    "Q1 = df['Transaction_Amount'].quantile(0.25)\n",
    "Q3 = df['Transaction_Amount'].quantile(0.75)\n",
    "IQR = Q3 - Q1\n",
    "lower_bound = Q1 - 1.5 * IQR\n",
    "upper_bound = Q3 + 1.5 * IQR\n",
    "df = df[(df['Transaction_Amount'] >= lower_bound) & (df['Transaction_Amount'] <= upper_bound)]"
   ]
  },
  {
   "cell_type": "markdown",
   "id": "7151ed71-42cf-4dce-bbbd-6f5b7877ff95",
   "metadata": {},
   "source": [
    "**Step # 4 – Handle Missing or Infinite Values (Safety Check)**"
   ]
  },
  {
   "cell_type": "code",
   "execution_count": 21,
   "id": "cffd51f4-6ca1-4811-bf9d-3f232a0da4ed",
   "metadata": {},
   "outputs": [],
   "source": [
    "df.replace([float('inf'), float('-inf')], pd.NA, inplace=True)\n",
    "df.dropna(inplace=True)"
   ]
  },
  {
   "cell_type": "markdown",
   "id": "3ab435fa-1e36-4ea0-af45-435b37dcaff4",
   "metadata": {},
   "source": [
    "**Step # 5 – Create a Binned Feature from Transaction Amount**"
   ]
  },
  {
   "cell_type": "code",
   "execution_count": 24,
   "id": "24ef7cbe-c11b-4472-b381-2b77ab1757b2",
   "metadata": {},
   "outputs": [],
   "source": [
    "df['Amount_Bin'] = pd.qcut(df['Transaction_Amount'], q=4, labels=['Low', 'Mid-Low', 'Mid-High', 'High'])"
   ]
  },
  {
   "cell_type": "markdown",
   "id": "8930436b-2324-4eea-b7fb-1adbdc26b9b5",
   "metadata": {},
   "source": [
    "**Step # 6 - Check for Constant Columns**"
   ]
  },
  {
   "cell_type": "code",
   "execution_count": 27,
   "id": "4b513f0e-4566-4de9-945e-c89918f03f98",
   "metadata": {},
   "outputs": [
    {
     "name": "stdout",
     "output_type": "stream",
     "text": [
      "Constant Columns: []\n"
     ]
    }
   ],
   "source": [
    "constant_columns = [col for col in df.columns if df[col].nunique() == 1]\n",
    "print(\"Constant Columns:\", constant_columns)\n",
    "\n",
    "#Some columns may have no variation (same value repeated), which add no value to the model."
   ]
  },
  {
   "cell_type": "markdown",
   "id": "24d72703-9779-403e-9b4c-097c70b37524",
   "metadata": {},
   "source": [
    "**Step # 7 Create Flags for Suspicious Patterns**"
   ]
  },
  {
   "cell_type": "code",
   "execution_count": 30,
   "id": "4e87b484-7f8f-4112-8e98-6371df3eda63",
   "metadata": {},
   "outputs": [],
   "source": [
    "df['High_Amount_Flag'] = df['Transaction_Amount'] > 2000\n",
    "df['Night_Transaction'] = (df['Transaction_Time'] % 86400) // 3600 < 6  # hours 0–5"
   ]
  },
  {
   "cell_type": "markdown",
   "id": "6d9aaea1-0d1c-4b94-95db-915e622795ee",
   "metadata": {},
   "source": [
    "**Step # 8 Scaling Numerical Features**\n",
    "For PCA-based features (V1 to V28), scaling may not be needed, but for raw features like Transaction_Amount, it's often necessary."
   ]
  },
  {
   "cell_type": "code",
   "execution_count": 35,
   "id": "d24bc31e-ef05-43df-b68e-e4b1d721fe6d",
   "metadata": {},
   "outputs": [],
   "source": [
    "from sklearn.preprocessing import StandardScaler\n",
    "\n",
    "scaler = StandardScaler()\n",
    "df['Scaled_Amount'] = scaler.fit_transform(df[['Transaction_Amount']])\n",
    "\n",
    "# Brings all features to a similar scale, which is important for models like KNN, SVM, or neural nets."
   ]
  },
  {
   "cell_type": "markdown",
   "id": "d232b6b5-0c8e-4355-9ebb-0fc1777b4907",
   "metadata": {},
   "source": [
    "**Step # 9 Detect and Handle Data Drift**"
   ]
  },
  {
   "cell_type": "markdown",
   "id": "bea5dda1-f8d0-44ef-b396-4b6518fcdebc",
   "metadata": {},
   "source": [
    "If we process new data later, compare feature distributions. Important when scoring production data — ensures model assumptions still hold."
   ]
  },
  {
   "cell_type": "code",
   "execution_count": 39,
   "id": "c0ebe733-c641-44bf-b38f-1ed5f94193fb",
   "metadata": {},
   "outputs": [
    {
     "data": {
      "image/png": "[encoded data removed]",
      "text/plain": [
       "<Figure size 1000x500 with 1 Axes>"
      ]
     },
     "metadata": {},
     "output_type": "display_data"
    }
   ],
   "source": [
    "import matplotlib.pyplot as plt\n",
    "\n",
    "# Create early vs. late transaction groups\n",
    "split_time = df['Transaction_Time'].median()\n",
    "early_df = df[df['Transaction_Time'] <= split_time]\n",
    "late_df = df[df['Transaction_Time'] > split_time]\n",
    "\n",
    "# Plot histograms to simulate drift\n",
    "plt.figure(figsize=(10, 5))\n",
    "early_df['Transaction_Amount'].hist(bins=50, alpha=0.5, label='Early')\n",
    "late_df['Transaction_Amount'].hist(bins=50, alpha=0.5, label='Late')\n",
    "plt.legend()\n",
    "plt.title(\"Transaction Amounts: Early vs Late Periods\")\n",
    "plt.xlabel(\"Transaction Amount\")\n",
    "plt.ylabel(\"Frequency\")\n",
    "plt.grid(True)\n",
    "plt.show()"
   ]
  },
  {
   "cell_type": "code",
   "execution_count": 43,
   "id": "4d840ac4-f3d8-49b2-9ed9-053009318bd2",
   "metadata": {},
   "outputs": [
    {
     "data": {
      "text/html": [
       "<div>\n",
       "<style scoped>\n",
       "    .dataframe tbody tr th:only-of-type {\n",
       "        vertical-align: middle;\n",
       "    }\n",
       "\n",
       "    .dataframe tbody tr th {\n",
       "        vertical-align: top;\n",
       "    }\n",
       "\n",
       "    .dataframe thead th {\n",
       "        text-align: right;\n",
       "    }\n",
       "</style>\n",
       "<table border=\"1\" class=\"dataframe\">\n",
       "  <thead>\n",
       "    <tr style=\"text-align: right;\">\n",
       "      <th></th>\n",
       "      <th>Transaction_Time</th>\n",
       "      <th>V1</th>\n",
       "      <th>V2</th>\n",
       "      <th>V3</th>\n",
       "      <th>V4</th>\n",
       "      <th>V5</th>\n",
       "      <th>V6</th>\n",
       "      <th>V7</th>\n",
       "      <th>V8</th>\n",
       "      <th>V9</th>\n",
       "      <th>...</th>\n",
       "      <th>V25</th>\n",
       "      <th>V26</th>\n",
       "      <th>V27</th>\n",
       "      <th>V28</th>\n",
       "      <th>Transaction_Amount</th>\n",
       "      <th>Class</th>\n",
       "      <th>Amount_Bin</th>\n",
       "      <th>High_Amount_Flag</th>\n",
       "      <th>Night_Transaction</th>\n",
       "      <th>Scaled_Amount</th>\n",
       "    </tr>\n",
       "  </thead>\n",
       "  <tbody>\n",
       "    <tr>\n",
       "      <th>0</th>\n",
       "      <td>0.0</td>\n",
       "      <td>-1.359807</td>\n",
       "      <td>-0.072781</td>\n",
       "      <td>2.536347</td>\n",
       "      <td>1.378155</td>\n",
       "      <td>-0.338321</td>\n",
       "      <td>0.462388</td>\n",
       "      <td>0.239599</td>\n",
       "      <td>0.098698</td>\n",
       "      <td>0.363787</td>\n",
       "      <td>...</td>\n",
       "      <td>0.128539</td>\n",
       "      <td>-0.189115</td>\n",
       "      <td>0.133558</td>\n",
       "      <td>-0.021053</td>\n",
       "      <td>149.62</td>\n",
       "      <td>0</td>\n",
       "      <td>High</td>\n",
       "      <td>False</td>\n",
       "      <td>True</td>\n",
       "      <td>2.703663</td>\n",
       "    </tr>\n",
       "    <tr>\n",
       "      <th>1</th>\n",
       "      <td>0.0</td>\n",
       "      <td>1.191857</td>\n",
       "      <td>0.266151</td>\n",
       "      <td>0.166480</td>\n",
       "      <td>0.448154</td>\n",
       "      <td>0.060018</td>\n",
       "      <td>-0.082361</td>\n",
       "      <td>-0.078803</td>\n",
       "      <td>0.085102</td>\n",
       "      <td>-0.255425</td>\n",
       "      <td>...</td>\n",
       "      <td>0.167170</td>\n",
       "      <td>0.125895</td>\n",
       "      <td>-0.008983</td>\n",
       "      <td>0.014724</td>\n",
       "      <td>2.69</td>\n",
       "      <td>0</td>\n",
       "      <td>Low</td>\n",
       "      <td>False</td>\n",
       "      <td>True</td>\n",
       "      <td>-0.765542</td>\n",
       "    </tr>\n",
       "    <tr>\n",
       "      <th>3</th>\n",
       "      <td>1.0</td>\n",
       "      <td>-0.966272</td>\n",
       "      <td>-0.185226</td>\n",
       "      <td>1.792993</td>\n",
       "      <td>-0.863291</td>\n",
       "      <td>-0.010309</td>\n",
       "      <td>1.247203</td>\n",
       "      <td>0.237609</td>\n",
       "      <td>0.377436</td>\n",
       "      <td>-1.387024</td>\n",
       "      <td>...</td>\n",
       "      <td>0.647376</td>\n",
       "      <td>-0.221929</td>\n",
       "      <td>0.062723</td>\n",
       "      <td>0.061458</td>\n",
       "      <td>123.50</td>\n",
       "      <td>0</td>\n",
       "      <td>High</td>\n",
       "      <td>False</td>\n",
       "      <td>True</td>\n",
       "      <td>2.086937</td>\n",
       "    </tr>\n",
       "    <tr>\n",
       "      <th>4</th>\n",
       "      <td>2.0</td>\n",
       "      <td>-1.158233</td>\n",
       "      <td>0.877737</td>\n",
       "      <td>1.548718</td>\n",
       "      <td>0.403034</td>\n",
       "      <td>-0.407193</td>\n",
       "      <td>0.095921</td>\n",
       "      <td>0.592941</td>\n",
       "      <td>-0.270533</td>\n",
       "      <td>0.817739</td>\n",
       "      <td>...</td>\n",
       "      <td>-0.206010</td>\n",
       "      <td>0.502292</td>\n",
       "      <td>0.219422</td>\n",
       "      <td>0.215153</td>\n",
       "      <td>69.99</td>\n",
       "      <td>0</td>\n",
       "      <td>High</td>\n",
       "      <td>False</td>\n",
       "      <td>True</td>\n",
       "      <td>0.823497</td>\n",
       "    </tr>\n",
       "    <tr>\n",
       "      <th>5</th>\n",
       "      <td>2.0</td>\n",
       "      <td>-0.425966</td>\n",
       "      <td>0.960523</td>\n",
       "      <td>1.141109</td>\n",
       "      <td>-0.168252</td>\n",
       "      <td>0.420987</td>\n",
       "      <td>-0.029728</td>\n",
       "      <td>0.476201</td>\n",
       "      <td>0.260314</td>\n",
       "      <td>-0.568671</td>\n",
       "      <td>...</td>\n",
       "      <td>-0.232794</td>\n",
       "      <td>0.105915</td>\n",
       "      <td>0.253844</td>\n",
       "      <td>0.081080</td>\n",
       "      <td>3.67</td>\n",
       "      <td>0</td>\n",
       "      <td>Low</td>\n",
       "      <td>False</td>\n",
       "      <td>True</td>\n",
       "      <td>-0.742403</td>\n",
       "    </tr>\n",
       "  </tbody>\n",
       "</table>\n",
       "<p>5 rows × 35 columns</p>\n",
       "</div>"
      ],
      "text/plain": [
       "   Transaction_Time        V1        V2        V3        V4        V5  \\\n",
       "0               0.0 -1.359807 -0.072781  2.536347  1.378155 -0.338321   \n",
       "1               0.0  1.191857  0.266151  0.166480  0.448154  0.060018   \n",
       "3               1.0 -0.966272 -0.185226  1.792993 -0.863291 -0.010309   \n",
       "4               2.0 -1.158233  0.877737  1.548718  0.403034 -0.407193   \n",
       "5               2.0 -0.425966  0.960523  1.141109 -0.168252  0.420987   \n",
       "\n",
       "         V6        V7        V8        V9  ...       V25       V26       V27  \\\n",
       "0  0.462388  0.239599  0.098698  0.363787  ...  0.128539 -0.189115  0.133558   \n",
       "1 -0.082361 -0.078803  0.085102 -0.255425  ...  0.167170  0.125895 -0.008983   \n",
       "3  1.247203  0.237609  0.377436 -1.387024  ...  0.647376 -0.221929  0.062723   \n",
       "4  0.095921  0.592941 -0.270533  0.817739  ... -0.206010  0.502292  0.219422   \n",
       "5 -0.029728  0.476201  0.260314 -0.568671  ... -0.232794  0.105915  0.253844   \n",
       "\n",
       "        V28  Transaction_Amount  Class  Amount_Bin  High_Amount_Flag  \\\n",
       "0 -0.021053              149.62      0        High             False   \n",
       "1  0.014724                2.69      0         Low             False   \n",
       "3  0.061458              123.50      0        High             False   \n",
       "4  0.215153               69.99      0        High             False   \n",
       "5  0.081080                3.67      0         Low             False   \n",
       "\n",
       "   Night_Transaction  Scaled_Amount  \n",
       "0               True       2.703663  \n",
       "1               True      -0.765542  \n",
       "3               True       2.086937  \n",
       "4               True       0.823497  \n",
       "5               True      -0.742403  \n",
       "\n",
       "[5 rows x 35 columns]"
      ]
     },
     "execution_count": 43,
     "metadata": {},
     "output_type": "execute_result"
    }
   ],
   "source": [
    "# Show records after all the data cleaning steps\n",
    "\n",
    "df_credit_card = df\n",
    "\n",
    "df_credit_card.head()"
   ]
  },
  {
   "cell_type": "markdown",
   "id": "0e4cd487-a97a-4278-bce7-4f4aecc73bf3",
   "metadata": {},
   "source": [
    "**Ethical Implications of Data Wrangling:**\n",
    "\n",
    "The following data transformations were performed on the original dataset:\n",
    "\n",
    "1. Renaming columns for clarity\n",
    "2. Dropping duplicates\n",
    "3. Removing outliers using IQR\n",
    "4. Handling infinite/missing values\n",
    "5. Creating a binned feature for transaction amount\n",
    "6. Check for constant values\n",
    "7. Create Flags for Suspicious Patterns\n",
    "8. Scaling Numerical Features\n",
    "9. Detect and Handle Data Drift\n",
    "\n",
    "These changes help standardize and prepare the data for accurate modeling but come with ethical considerations:\n",
    "\n",
    "**Assumptions Made:** We assumed extreme transaction amounts are noise, which could suppress genuine high-value fraud detection.\n",
    "\n",
    "**No PII Present:** The dataset is anonymized and public, so there are no GDPR or PCI compliance concerns.\n",
    "\n",
    "**Risk of Bias:** Removing records (especially outliers or duplicates) could skew the model against rare fraud patterns.\n",
    "\n",
    "**Credibility:** Data is sourced from a reputable Kaggle competition, ensuring integrity and reproducibility.\n",
    "\n",
    "**Mitigation:** All steps were transparently logged, and original data can be restored if needed."
   ]
  },
  {
   "cell_type": "markdown",
   "id": "272db1e3-9588-4cd1-95c5-a76c52b89a5b",
   "metadata": {},
   "source": [
    "# Milestone 3 – Website Data Cleaning & Formatting (HTML Table)\n",
    "\n",
    "**Load Dataset for cleaning from HTML source**"
   ]
  },
  {
   "cell_type": "code",
   "execution_count": 60,
   "id": "f49113c2-901a-4bb8-87fc-b76d8e3a652f",
   "metadata": {},
   "outputs": [
    {
     "data": {
      "text/html": [
       "<div>\n",
       "<style scoped>\n",
       "    .dataframe tbody tr th:only-of-type {\n",
       "        vertical-align: middle;\n",
       "    }\n",
       "\n",
       "    .dataframe tbody tr th {\n",
       "        vertical-align: top;\n",
       "    }\n",
       "\n",
       "    .dataframe thead th {\n",
       "        text-align: right;\n",
       "    }\n",
       "</style>\n",
       "<table border=\"1\" class=\"dataframe\">\n",
       "  <thead>\n",
       "    <tr style=\"text-align: right;\">\n",
       "      <th></th>\n",
       "      <th>States and D.C.</th>\n",
       "      <th>2023</th>\n",
       "      <th>2022</th>\n",
       "      <th>2021</th>\n",
       "      <th>2019</th>\n",
       "      <th>2018</th>\n",
       "      <th>2017</th>\n",
       "      <th>2016</th>\n",
       "      <th>2015</th>\n",
       "      <th>2014</th>\n",
       "      <th>2013</th>\n",
       "      <th>Growth rate</th>\n",
       "    </tr>\n",
       "  </thead>\n",
       "  <tbody>\n",
       "    <tr>\n",
       "      <th>0</th>\n",
       "      <td>United States</td>\n",
       "      <td>$77,719</td>\n",
       "      <td>$74,755</td>\n",
       "      <td>$69,717</td>\n",
       "      <td>$65,712</td>\n",
       "      <td>$63,179</td>\n",
       "      <td>$60,336</td>\n",
       "      <td>$57,617</td>\n",
       "      <td>$55,775</td>\n",
       "      <td>$53,657</td>\n",
       "      <td>$52,250</td>\n",
       "      <td>3.07%</td>\n",
       "    </tr>\n",
       "    <tr>\n",
       "      <th>1</th>\n",
       "      <td>Washington, D.C.</td>\n",
       "      <td>$108,210</td>\n",
       "      <td>$101,027</td>\n",
       "      <td>$90,088</td>\n",
       "      <td>$92,266</td>\n",
       "      <td>$85,203</td>\n",
       "      <td>$82,372</td>\n",
       "      <td>$75,506</td>\n",
       "      <td>$75,628</td>\n",
       "      <td>$71,648</td>\n",
       "      <td>$67,572</td>\n",
       "      <td>4.82%</td>\n",
       "    </tr>\n",
       "    <tr>\n",
       "      <th>2</th>\n",
       "      <td>Massachusetts</td>\n",
       "      <td>$99,858</td>\n",
       "      <td>$94,488</td>\n",
       "      <td>$89,645</td>\n",
       "      <td>$85,843</td>\n",
       "      <td>$79,835</td>\n",
       "      <td>$77,385</td>\n",
       "      <td>$75,297</td>\n",
       "      <td>$70,628</td>\n",
       "      <td>$69,160</td>\n",
       "      <td>$66,768</td>\n",
       "      <td>4.11%</td>\n",
       "    </tr>\n",
       "    <tr>\n",
       "      <th>3</th>\n",
       "      <td>New Jersey</td>\n",
       "      <td>$99,781</td>\n",
       "      <td>$96,346</td>\n",
       "      <td>$89,296</td>\n",
       "      <td>$85,751</td>\n",
       "      <td>$81,740</td>\n",
       "      <td>$80,088</td>\n",
       "      <td>$76,126</td>\n",
       "      <td>$72,222</td>\n",
       "      <td>$71,919</td>\n",
       "      <td>$70,165</td>\n",
       "      <td>3.58%</td>\n",
       "    </tr>\n",
       "    <tr>\n",
       "      <th>4</th>\n",
       "      <td>Maryland</td>\n",
       "      <td>$98,678</td>\n",
       "      <td>$94,991</td>\n",
       "      <td>$90,203</td>\n",
       "      <td>$86,738</td>\n",
       "      <td>$83,242</td>\n",
       "      <td>$80,776</td>\n",
       "      <td>$78,945</td>\n",
       "      <td>$75,847</td>\n",
       "      <td>$73,971</td>\n",
       "      <td>$72,483</td>\n",
       "      <td>3.13%</td>\n",
       "    </tr>\n",
       "  </tbody>\n",
       "</table>\n",
       "</div>"
      ],
      "text/plain": [
       "    States and D.C.      2023      2022     2021     2019     2018     2017  \\\n",
       "0     United States   $77,719   $74,755  $69,717  $65,712  $63,179  $60,336   \n",
       "1  Washington, D.C.  $108,210  $101,027  $90,088  $92,266  $85,203  $82,372   \n",
       "2     Massachusetts   $99,858   $94,488  $89,645  $85,843  $79,835  $77,385   \n",
       "3        New Jersey   $99,781   $96,346  $89,296  $85,751  $81,740  $80,088   \n",
       "4          Maryland   $98,678   $94,991  $90,203  $86,738  $83,242  $80,776   \n",
       "\n",
       "      2016     2015     2014     2013 Growth rate  \n",
       "0  $57,617  $55,775  $53,657  $52,250       3.07%  \n",
       "1  $75,506  $75,628  $71,648  $67,572       4.82%  \n",
       "2  $75,297  $70,628  $69,160  $66,768       4.11%  \n",
       "3  $76,126  $72,222  $71,919  $70,165       3.58%  \n",
       "4  $78,945  $75,847  $73,971  $72,483       3.13%  "
      ]
     },
     "execution_count": 60,
     "metadata": {},
     "output_type": "execute_result"
    }
   ],
   "source": [
    "import pandas as pd\n",
    "# Load directly from website\n",
    "url = 'https://en.wikipedia.org/wiki/List_of_U.S._states_and_territories_by_income'\n",
    "tables = pd.read_html(url)\n",
    "df = tables[2]  # Table with median household income by state (2021)\n",
    "df.head()"
   ]
  },
  {
   "cell_type": "markdown",
   "id": "25950274-74c8-444f-93f7-fd9ae8948399",
   "metadata": {},
   "source": [
    "**Step # 2 - Rename Columns for Clarity**"
   ]
  },
  {
   "cell_type": "code",
   "execution_count": 62,
   "id": "4c296937-d0ac-4a42-a2ba-c19e4cb07947",
   "metadata": {},
   "outputs": [
    {
     "data": {
      "text/html": [
       "<div>\n",
       "<style scoped>\n",
       "    .dataframe tbody tr th:only-of-type {\n",
       "        vertical-align: middle;\n",
       "    }\n",
       "\n",
       "    .dataframe tbody tr th {\n",
       "        vertical-align: top;\n",
       "    }\n",
       "\n",
       "    .dataframe thead th {\n",
       "        text-align: right;\n",
       "    }\n",
       "</style>\n",
       "<table border=\"1\" class=\"dataframe\">\n",
       "  <thead>\n",
       "    <tr style=\"text-align: right;\">\n",
       "      <th></th>\n",
       "      <th>State</th>\n",
       "      <th>Income_2023</th>\n",
       "      <th>Income_2022</th>\n",
       "      <th>Income_2021</th>\n",
       "      <th>Growth_Rate</th>\n",
       "    </tr>\n",
       "  </thead>\n",
       "  <tbody>\n",
       "    <tr>\n",
       "      <th>0</th>\n",
       "      <td>United States</td>\n",
       "      <td>$77,719</td>\n",
       "      <td>$74,755</td>\n",
       "      <td>$69,717</td>\n",
       "      <td>3.07%</td>\n",
       "    </tr>\n",
       "    <tr>\n",
       "      <th>1</th>\n",
       "      <td>Washington, D.C.</td>\n",
       "      <td>$108,210</td>\n",
       "      <td>$101,027</td>\n",
       "      <td>$90,088</td>\n",
       "      <td>4.82%</td>\n",
       "    </tr>\n",
       "    <tr>\n",
       "      <th>2</th>\n",
       "      <td>Massachusetts</td>\n",
       "      <td>$99,858</td>\n",
       "      <td>$94,488</td>\n",
       "      <td>$89,645</td>\n",
       "      <td>4.11%</td>\n",
       "    </tr>\n",
       "    <tr>\n",
       "      <th>3</th>\n",
       "      <td>New Jersey</td>\n",
       "      <td>$99,781</td>\n",
       "      <td>$96,346</td>\n",
       "      <td>$89,296</td>\n",
       "      <td>3.58%</td>\n",
       "    </tr>\n",
       "    <tr>\n",
       "      <th>4</th>\n",
       "      <td>Maryland</td>\n",
       "      <td>$98,678</td>\n",
       "      <td>$94,991</td>\n",
       "      <td>$90,203</td>\n",
       "      <td>3.13%</td>\n",
       "    </tr>\n",
       "  </tbody>\n",
       "</table>\n",
       "</div>"
      ],
      "text/plain": [
       "              State Income_2023 Income_2022 Income_2021 Growth_Rate\n",
       "0     United States     $77,719     $74,755     $69,717       3.07%\n",
       "1  Washington, D.C.    $108,210    $101,027     $90,088       4.82%\n",
       "2     Massachusetts     $99,858     $94,488     $89,645       4.11%\n",
       "3        New Jersey     $99,781     $96,346     $89,296       3.58%\n",
       "4          Maryland     $98,678     $94,991     $90,203       3.13%"
      ]
     },
     "execution_count": 62,
     "metadata": {},
     "output_type": "execute_result"
    }
   ],
   "source": [
    "# Select important columns\n",
    "df = df[['States and D.C.', '2023', '2022', '2021', 'Growth rate']].copy()\n",
    "\n",
    "# Step: Rename columns\n",
    "df.columns = ['State', 'Income_2023', 'Income_2022', 'Income_2021', 'Growth_Rate']\n",
    "df.head()"
   ]
  },
  {
   "cell_type": "markdown",
   "id": "82740e5a-5fa5-4971-813e-c2eff34e4539",
   "metadata": {},
   "source": [
    "**Step # 3 - Clean formatting: Remove $ and commas, convert to numeric**"
   ]
  },
  {
   "cell_type": "code",
   "execution_count": 65,
   "id": "cb508f4e-5eb2-4c6e-8ff7-ff9b6a7f8432",
   "metadata": {},
   "outputs": [],
   "source": [
    "for col in ['Income_2023', 'Income_2022', 'Income_2021']:\n",
    "    df.loc[:, col] = df[col].replace(r'[\\$,]', '', regex=True).astype(float)"
   ]
  },
  {
   "cell_type": "markdown",
   "id": "0716cc7c-7ea9-4828-a305-c2dd98d8ad77",
   "metadata": {},
   "source": [
    "**Step # 4 - Clean Growth Rate: Remove % symbol and convert to float**"
   ]
  },
  {
   "cell_type": "code",
   "execution_count": 68,
   "id": "bf743c99-67ee-4297-ab97-663af4433891",
   "metadata": {},
   "outputs": [],
   "source": [
    "df.loc[:, 'Growth_Rate'] = df['Growth_Rate'].replace(r'%', '', regex=True).astype(float)"
   ]
  },
  {
   "cell_type": "markdown",
   "id": "9e475d6c-793f-49a0-bbbd-c67471f9fdcb",
   "metadata": {},
   "source": [
    "**Step # 5 - Standardize State names (Title case and remove extra spaces)**"
   ]
  },
  {
   "cell_type": "code",
   "execution_count": 71,
   "id": "f7707947-34e7-4ca0-b70b-93e9c1aa632f",
   "metadata": {},
   "outputs": [],
   "source": [
    "df.loc[:, 'State'] = df['State'].str.strip().str.title()"
   ]
  },
  {
   "cell_type": "markdown",
   "id": "cc5170a9-0c27-4074-a5e9-c94e676d4a21",
   "metadata": {},
   "source": [
    "**Step # 6 - Drop duplicates and missing data**"
   ]
  },
  {
   "cell_type": "code",
   "execution_count": 74,
   "id": "9d1134df-0e17-4f1f-a2b6-e52b7bbad26f",
   "metadata": {},
   "outputs": [],
   "source": [
    "df.drop_duplicates(subset='State', inplace=True)\n",
    "df.dropna(inplace=True)"
   ]
  },
  {
   "cell_type": "markdown",
   "id": "dbf3b036-fdcc-45a3-84be-fc174800f1fa",
   "metadata": {},
   "source": [
    "**Step # 7 - Identify outliers based on 2023 Income**"
   ]
  },
  {
   "cell_type": "code",
   "execution_count": 77,
   "id": "11a1437f-fc22-46f9-9b86-2c28787f85f4",
   "metadata": {},
   "outputs": [
    {
     "name": "stdout",
     "output_type": "stream",
     "text": [
      "Number of outliers detected: 0\n"
     ]
    }
   ],
   "source": [
    "Q1 = df['Income_2023'].quantile(0.25)\n",
    "Q3 = df['Income_2023'].quantile(0.75)\n",
    "IQR = Q3 - Q1\n",
    "lower_bound = Q1 - 1.5 * IQR\n",
    "upper_bound = Q3 + 1.5 * IQR\n",
    "outliers = df[(df['Income_2023'] < lower_bound) | (df['Income_2023'] > upper_bound)]\n",
    "print(\"Number of outliers detected:\", len(outliers))\n",
    "\n",
    "# Remove outliers\n",
    "df = df[(df['Income_2023'] >= lower_bound) & (df['Income_2023'] <= upper_bound)]"
   ]
  },
  {
   "cell_type": "markdown",
   "id": "df3f3463-5b3b-4bfc-acc7-84213ea66074",
   "metadata": {},
   "source": [
    "**Step # 8 - Conduct Fuzzy Matching to validate state names**"
   ]
  },
  {
   "cell_type": "code",
   "execution_count": 80,
   "id": "2250d11a-5bb7-4c7c-8aab-5d201cb162b8",
   "metadata": {},
   "outputs": [],
   "source": [
    "from rapidfuzz import process, fuzz\n",
    "standard_states = ['Alabama', 'Alaska', 'Arizona', 'Arkansas', 'California', 'Colorado',\n",
    "                   'Connecticut', 'Delaware', 'Florida', 'Georgia', 'Hawaii', 'Idaho',\n",
    "                   'Illinois', 'Indiana', 'Iowa', 'Kansas', 'Kentucky', 'Louisiana',\n",
    "                   'Maine', 'Maryland', 'Massachusetts', 'Michigan', 'Minnesota', 'Mississippi',\n",
    "                   'Missouri', 'Montana', 'Nebraska', 'Nevada', 'New Hampshire', 'New Jersey',\n",
    "                   'New Mexico', 'New York', 'North Carolina', 'North Dakota', 'Ohio',\n",
    "                   'Oklahoma', 'Oregon', 'Pennsylvania', 'Rhode Island', 'South Carolina',\n",
    "                   'South Dakota', 'Tennessee', 'Texas', 'Utah', 'Vermont', 'Virginia',\n",
    "                   'Washington', 'West Virginia', 'Wisconsin', 'Wyoming','Washington, D.C.']\n",
    "\n",
    "# Fuzzy match each State in df to standard_states\n",
    "fuzzy_matches = df['State'].apply(lambda x: process.extractOne(x, standard_states, scorer=fuzz.token_sort_ratio)[0])\n",
    "df.loc[:, 'Matched_State'] = fuzzy_matches"
   ]
  },
  {
   "cell_type": "markdown",
   "id": "8935c7cc-c031-4bd9-a016-920a9d8b86b1",
   "metadata": {},
   "source": [
    "**Step # 9 - Check for zero or negative income values**"
   ]
  },
  {
   "cell_type": "code",
   "execution_count": 83,
   "id": "257b8b06-b793-4c74-a894-1b4a64812bd0",
   "metadata": {},
   "outputs": [
    {
     "name": "stdout",
     "output_type": "stream",
     "text": [
      "Number of states with invalid income values: 0\n"
     ]
    }
   ],
   "source": [
    "invalid_income = df[(df['Income_2023'] <= 0) | (df['Income_2022'] <= 0) | (df['Income_2021'] <= 0)]\n",
    "print(f\"Number of states with invalid income values: {len(invalid_income)}\")\n",
    "if not invalid_income.empty:\n",
    "    print(invalid_income[['State', 'Income_2023', 'Income_2022', 'Income_2021']])"
   ]
  },
  {
   "cell_type": "markdown",
   "id": "3987c1b6-61a9-4c17-83b5-c753823cc32a",
   "metadata": {},
   "source": [
    "**Step # 10 - Check consistency between growth rate and income changes**"
   ]
  },
  {
   "cell_type": "code",
   "execution_count": 86,
   "id": "90eb092c-78a8-49e1-a8b7-630049f94cd2",
   "metadata": {},
   "outputs": [
    {
     "name": "stdout",
     "output_type": "stream",
     "text": [
      "Number of mismatched growth rate entries: 9\n"
     ]
    }
   ],
   "source": [
    "df['Calculated_Growth'] = ((df['Income_2023'] - df['Income_2022']) / df['Income_2022']) * 100\n",
    "growth_mismatch = df[abs(df['Growth_Rate'] - df['Calculated_Growth']) > 2]  # Allow 2% margin\n",
    "print(f\"Number of mismatched growth rate entries: {len(growth_mismatch)}\")"
   ]
  },
  {
   "cell_type": "markdown",
   "id": "05b99afb-daa1-47da-aeba-b0354ceeec90",
   "metadata": {},
   "source": [
    "**Final Cleaned Dataset Preview**"
   ]
  },
  {
   "cell_type": "code",
   "execution_count": 89,
   "id": "f55eec87-d36b-497d-9600-c6585e137e69",
   "metadata": {},
   "outputs": [
    {
     "data": {
      "text/html": [
       "<div>\n",
       "<style scoped>\n",
       "    .dataframe tbody tr th:only-of-type {\n",
       "        vertical-align: middle;\n",
       "    }\n",
       "\n",
       "    .dataframe tbody tr th {\n",
       "        vertical-align: top;\n",
       "    }\n",
       "\n",
       "    .dataframe thead th {\n",
       "        text-align: right;\n",
       "    }\n",
       "</style>\n",
       "<table border=\"1\" class=\"dataframe\">\n",
       "  <thead>\n",
       "    <tr style=\"text-align: right;\">\n",
       "      <th></th>\n",
       "      <th>State</th>\n",
       "      <th>Income_2023</th>\n",
       "      <th>Income_2022</th>\n",
       "      <th>Income_2021</th>\n",
       "      <th>Growth_Rate</th>\n",
       "      <th>Matched_State</th>\n",
       "      <th>Calculated_Growth</th>\n",
       "    </tr>\n",
       "  </thead>\n",
       "  <tbody>\n",
       "    <tr>\n",
       "      <th>0</th>\n",
       "      <td>United States</td>\n",
       "      <td>77719.0</td>\n",
       "      <td>74755.0</td>\n",
       "      <td>69717.0</td>\n",
       "      <td>3.07</td>\n",
       "      <td>New Jersey</td>\n",
       "      <td>3.964952</td>\n",
       "    </tr>\n",
       "    <tr>\n",
       "      <th>1</th>\n",
       "      <td>Washington, D.C.</td>\n",
       "      <td>108210.0</td>\n",
       "      <td>101027.0</td>\n",
       "      <td>90088.0</td>\n",
       "      <td>4.82</td>\n",
       "      <td>Washington, D.C.</td>\n",
       "      <td>7.109981</td>\n",
       "    </tr>\n",
       "    <tr>\n",
       "      <th>2</th>\n",
       "      <td>Massachusetts</td>\n",
       "      <td>99858.0</td>\n",
       "      <td>94488.0</td>\n",
       "      <td>89645.0</td>\n",
       "      <td>4.11</td>\n",
       "      <td>Massachusetts</td>\n",
       "      <td>5.683261</td>\n",
       "    </tr>\n",
       "    <tr>\n",
       "      <th>3</th>\n",
       "      <td>New Jersey</td>\n",
       "      <td>99781.0</td>\n",
       "      <td>96346.0</td>\n",
       "      <td>89296.0</td>\n",
       "      <td>3.58</td>\n",
       "      <td>New Jersey</td>\n",
       "      <td>3.565275</td>\n",
       "    </tr>\n",
       "    <tr>\n",
       "      <th>4</th>\n",
       "      <td>Maryland</td>\n",
       "      <td>98678.0</td>\n",
       "      <td>94991.0</td>\n",
       "      <td>90203.0</td>\n",
       "      <td>3.13</td>\n",
       "      <td>Maryland</td>\n",
       "      <td>3.88142</td>\n",
       "    </tr>\n",
       "  </tbody>\n",
       "</table>\n",
       "</div>"
      ],
      "text/plain": [
       "              State Income_2023 Income_2022 Income_2021 Growth_Rate  \\\n",
       "0     United States     77719.0     74755.0     69717.0        3.07   \n",
       "1  Washington, D.C.    108210.0    101027.0     90088.0        4.82   \n",
       "2     Massachusetts     99858.0     94488.0     89645.0        4.11   \n",
       "3        New Jersey     99781.0     96346.0     89296.0        3.58   \n",
       "4          Maryland     98678.0     94991.0     90203.0        3.13   \n",
       "\n",
       "      Matched_State Calculated_Growth  \n",
       "0        New Jersey          3.964952  \n",
       "1  Washington, D.C.          7.109981  \n",
       "2     Massachusetts          5.683261  \n",
       "3        New Jersey          3.565275  \n",
       "4          Maryland           3.88142  "
      ]
     },
     "execution_count": 89,
     "metadata": {},
     "output_type": "execute_result"
    }
   ],
   "source": [
    "df.reset_index(drop=True, inplace=True)\n",
    "df_web_data = df\n",
    "df.head()"
   ]
  },
  {
   "cell_type": "markdown",
   "id": "bebc4e9a-1a86-4a11-b5bb-4502f6ec2385",
   "metadata": {},
   "source": [
    "**Ethical Reflection:**\n",
    "\n",
    "In this milestone, data was extracted from the publicly available Wikipedia page listing income statistics by U.S. state. Transformations included renaming headers, formatting monetary values, standardizing state names, cleaning the growth rate format, handling missing or duplicate values, detecting/removing outliers, fuzzy matching state names, checking for invalid income values, and verifying growth rate consistency. This data is aggregated at the state level and publicly sourced, minimizing legal risks under regulations like GDPR or CCPA. However, assumptions about formatting, handling missing data, removing outliers, fuzzy matching, and calculated growth rates could introduce bias or slight inaccuracies. The source (Wikipedia, citing the U.S. Census Bureau) is credible, and careful documentation was maintained to ensure transparency. All transformations were designed to be reversible and responsibly handled to mitigate ethical risks."
   ]
  },
  {
   "cell_type": "markdown",
   "id": "80c41bda-2a94-4204-b81b-af5beeb9af80",
   "metadata": {},
   "source": [
    "# Milestone 4 - Connecting to an API / Pulling in the Data and Cleaning/Formatting\n",
    "# Source: https://ipapi.co/"
   ]
  },
  {
   "cell_type": "code",
   "execution_count": 92,
   "id": "8e91d1db-3f7c-4981-a8c9-930e77368dc5",
   "metadata": {},
   "outputs": [],
   "source": [
    "import pandas as pd\n",
    "import requests\n",
    "import re\n",
    "from rapidfuzz import process, fuzz\n",
    "\n",
    "# Step #1 - Define a list of sample IP addresses\n",
    "ips = ['8.8.8.8', '1.1.1.1', '2606:4700:4700::1111', '8.8.4.4', 'invalid_ip']"
   ]
  },
  {
   "cell_type": "markdown",
   "id": "cb1701a5-2a98-4e03-9279-7f4819cd3ccf",
   "metadata": {},
   "source": [
    "**Step # 2 - Function to fetch geolocation data from ipapi.co**"
   ]
  },
  {
   "cell_type": "code",
   "execution_count": 95,
   "id": "fd2d5add-d09a-4892-9661-7d5181b3dbce",
   "metadata": {},
   "outputs": [],
   "source": [
    "# Step #2 - Function to fetch geolocation data from ipapi.co\n",
    "def fetch_geo(ip):\n",
    "    try:\n",
    "        res = requests.get(f'https://ipapi.co/{ip}/json/')\n",
    "        res.raise_for_status()\n",
    "        data = res.json()\n",
    "        return {\n",
    "            'ip': ip,\n",
    "            'city': data.get('city'),\n",
    "            'region': data.get('region'),\n",
    "            'country': data.get('country_name'),\n",
    "            'latitude': data.get('latitude'),\n",
    "            'longitude': data.get('longitude'),\n",
    "            'timezone': data.get('timezone')\n",
    "        }\n",
    "    except:\n",
    "        return {'ip': ip, 'city': None, 'region': None, 'country': None, 'latitude': None, 'longitude': None, 'timezone': None}"
   ]
  },
  {
   "cell_type": "markdown",
   "id": "3073ee41-217f-41a5-bf8f-b20a07874396",
   "metadata": {},
   "source": [
    "**Step # 3 - Collect data from API**"
   ]
  },
  {
   "cell_type": "code",
   "execution_count": 98,
   "id": "3caeac49-20df-4d44-a4a9-94065ae2d028",
   "metadata": {},
   "outputs": [],
   "source": [
    "# Step # 3 - Collect data from API\n",
    "data = [fetch_geo(ip) for ip in ips]\n",
    "df = pd.DataFrame(data)"
   ]
  },
  {
   "cell_type": "markdown",
   "id": "30ca8186-e3df-4323-bab9-fd848588e2fe",
   "metadata": {},
   "source": [
    "**# Step #4 - Standardize casing and strip whitespace**"
   ]
  },
  {
   "cell_type": "code",
   "execution_count": 101,
   "id": "e90cd066-4b39-4e50-b9be-584180538e2d",
   "metadata": {},
   "outputs": [],
   "source": [
    "# Step #4 - Standardize casing and strip whitespace\n",
    "df['city'] = df['city'].astype(str).str.strip().str.title()\n",
    "df['region'] = df['region'].astype(str).str.strip().str.title()\n",
    "df['country'] = df['country'].astype(str).str.strip().str.title()"
   ]
  },
  {
   "cell_type": "markdown",
   "id": "d739e66c-ba1d-43c0-b620-8d8e0afe4d3b",
   "metadata": {},
   "source": [
    "**Step # 5 - Drop or flag rows with missing values**"
   ]
  },
  {
   "cell_type": "code",
   "execution_count": 104,
   "id": "2062362e-117b-4347-a36c-a6ae5ba3f0b0",
   "metadata": {},
   "outputs": [],
   "source": [
    "# Step #5 - Drop or flag rows with missing values\n",
    "df['valid'] = df['city'].notnull() & df['country'].notnull()\n",
    "df = df[df['valid']]"
   ]
  },
  {
   "cell_type": "markdown",
   "id": "9f134428-c100-47bb-9d3a-38fc8081db05",
   "metadata": {},
   "source": [
    "**Step # 6 - Drop duplicate IPs if any**"
   ]
  },
  {
   "cell_type": "code",
   "execution_count": 107,
   "id": "8e3778c7-babb-44c9-9156-e60e4da86893",
   "metadata": {},
   "outputs": [],
   "source": [
    "# Step #6 - Drop duplicate IPs if any\n",
    "df = df.drop_duplicates(subset='ip')"
   ]
  },
  {
   "cell_type": "markdown",
   "id": "ed4af81b-f3e6-4e29-9894-9d92b1a99796",
   "metadata": {},
   "source": [
    "**Step # 7 - Conduct fuzzy matching against reference cities**"
   ]
  },
  {
   "cell_type": "code",
   "execution_count": 110,
   "id": "e2853a84-bdd1-4d71-98c0-5e95d3832731",
   "metadata": {},
   "outputs": [],
   "source": [
    "# Step #7 - Conduct fuzzy matching against reference cities\n",
    "ref_cities = ['New York', 'Los Angeles', 'Chicago', 'London', 'Sydney', 'San Francisco']\n",
    "df['Matched_City'] = df['city'].apply(lambda x: process.extractOne(x, ref_cities, scorer=fuzz.token_sort_ratio)[0] if x else None)"
   ]
  },
  {
   "cell_type": "markdown",
   "id": "23f3cdb0-53f4-409b-90e2-53ec6b1d75e3",
   "metadata": {},
   "source": [
    "**Step # 8 - Validate IP format**"
   ]
  },
  {
   "cell_type": "code",
   "execution_count": 113,
   "id": "0de6374c-07be-4696-beb8-899743851901",
   "metadata": {},
   "outputs": [
    {
     "name": "stdout",
     "output_type": "stream",
     "text": [
      "Invalid IP formats:            ip  city region country  latitude  longitude timezone  valid  \\\n",
      "4  invalid_ip  None   None    None       NaN        NaN     None   True   \n",
      "\n",
      "  Matched_City  IP_Valid_Format  \n",
      "4       London            False  \n"
     ]
    }
   ],
   "source": [
    "# Step #8 - Validate IP format\n",
    "ipv4_pattern = re.compile(r'^(\\d{1,3}\\.){3}\\d{1,3}$')\n",
    "ipv6_pattern = re.compile(r'^([0-9a-fA-F]{0,4}:){1,7}[0-9a-fA-F]{0,4}$')\n",
    "df['IP_Valid_Format'] = df['ip'].apply(lambda x: bool(ipv4_pattern.match(x) or ipv6_pattern.match(x)))\n",
    "print(\"Invalid IP formats:\", df[~df['IP_Valid_Format']])"
   ]
  },
  {
   "cell_type": "markdown",
   "id": "426a5f44-02dd-40c6-ac7e-783b5f52f513",
   "metadata": {},
   "source": [
    "**Step # 9 - Validate latitude and longitude range**"
   ]
  },
  {
   "cell_type": "code",
   "execution_count": 116,
   "id": "e449d64f-f44a-4eb6-a0d1-b1ffe14795c4",
   "metadata": {},
   "outputs": [
    {
     "name": "stdout",
     "output_type": "stream",
     "text": [
      "Invalid coordinates: Empty DataFrame\n",
      "Columns: [ip, city, region, country, latitude, longitude, timezone, valid, Matched_City, IP_Valid_Format]\n",
      "Index: []\n"
     ]
    }
   ],
   "source": [
    "# Step #9 - Validate latitude and longitude range\n",
    "df['latitude'] = pd.to_numeric(df['latitude'], errors='coerce')\n",
    "df['longitude'] = pd.to_numeric(df['longitude'], errors='coerce')\n",
    "invalid_coords = df[\n",
    "    (df['latitude'] < -90) | (df['latitude'] > 90) |\n",
    "    (df['longitude'] < -180) | (df['longitude'] > 180)\n",
    "]\n",
    "print(\"Invalid coordinates:\", invalid_coords)"
   ]
  },
  {
   "cell_type": "markdown",
   "id": "5ed321a7-aac2-421d-822c-a2bd50585de6",
   "metadata": {},
   "source": [
    "**Step # 10 - Check for duplicate location coordinates**"
   ]
  },
  {
   "cell_type": "code",
   "execution_count": 119,
   "id": "ab9ef12b-5104-4775-ad83-5381373be126",
   "metadata": {},
   "outputs": [
    {
     "name": "stdout",
     "output_type": "stream",
     "text": [
      "Duplicate geolocations:            ip  city region country  latitude  longitude timezone  valid  \\\n",
      "0     8.8.8.8  None   None    None       NaN        NaN     None   True   \n",
      "1     1.1.1.1  None   None    None       NaN        NaN     None   True   \n",
      "3     8.8.4.4  None   None    None       NaN        NaN     None   True   \n",
      "4  invalid_ip  None   None    None       NaN        NaN     None   True   \n",
      "\n",
      "  Matched_City  IP_Valid_Format  \n",
      "0       London             True  \n",
      "1       London             True  \n",
      "3       London             True  \n",
      "4       London            False  \n"
     ]
    }
   ],
   "source": [
    "# Step #10 - Check for duplicate location coordinates\n",
    "dupe_geo = df[df.duplicated(subset=['city', 'region', 'country', 'latitude', 'longitude'], keep=False)]\n",
    "print(\"Duplicate geolocations:\", dupe_geo)"
   ]
  },
  {
   "cell_type": "markdown",
   "id": "aa8ec718-9bea-4433-adf9-96aab90b175c",
   "metadata": {},
   "source": [
    "**Final Cleaned API Dataset**"
   ]
  },
  {
   "cell_type": "code",
   "execution_count": 126,
   "id": "2883bbb7-e62f-40f9-b86e-5c87dc24caf0",
   "metadata": {},
   "outputs": [
    {
     "data": {
      "text/html": [
       "<div>\n",
       "<style scoped>\n",
       "    .dataframe tbody tr th:only-of-type {\n",
       "        vertical-align: middle;\n",
       "    }\n",
       "\n",
       "    .dataframe tbody tr th {\n",
       "        vertical-align: top;\n",
       "    }\n",
       "\n",
       "    .dataframe thead th {\n",
       "        text-align: right;\n",
       "    }\n",
       "</style>\n",
       "<table border=\"1\" class=\"dataframe\">\n",
       "  <thead>\n",
       "    <tr style=\"text-align: right;\">\n",
       "      <th></th>\n",
       "      <th>ip</th>\n",
       "      <th>city</th>\n",
       "      <th>region</th>\n",
       "      <th>country</th>\n",
       "      <th>latitude</th>\n",
       "      <th>longitude</th>\n",
       "      <th>timezone</th>\n",
       "      <th>valid</th>\n",
       "      <th>Matched_City</th>\n",
       "      <th>IP_Valid_Format</th>\n",
       "    </tr>\n",
       "  </thead>\n",
       "  <tbody>\n",
       "    <tr>\n",
       "      <th>0</th>\n",
       "      <td>8.8.8.8</td>\n",
       "      <td>None</td>\n",
       "      <td>None</td>\n",
       "      <td>None</td>\n",
       "      <td>NaN</td>\n",
       "      <td>NaN</td>\n",
       "      <td>None</td>\n",
       "      <td>True</td>\n",
       "      <td>London</td>\n",
       "      <td>True</td>\n",
       "    </tr>\n",
       "    <tr>\n",
       "      <th>1</th>\n",
       "      <td>1.1.1.1</td>\n",
       "      <td>None</td>\n",
       "      <td>None</td>\n",
       "      <td>None</td>\n",
       "      <td>NaN</td>\n",
       "      <td>NaN</td>\n",
       "      <td>None</td>\n",
       "      <td>True</td>\n",
       "      <td>London</td>\n",
       "      <td>True</td>\n",
       "    </tr>\n",
       "    <tr>\n",
       "      <th>2</th>\n",
       "      <td>2606:4700:4700::1111</td>\n",
       "      <td>Toronto</td>\n",
       "      <td>Ontario</td>\n",
       "      <td>Canada</td>\n",
       "      <td>43.6561</td>\n",
       "      <td>-79.3406</td>\n",
       "      <td>America/Toronto</td>\n",
       "      <td>True</td>\n",
       "      <td>London</td>\n",
       "      <td>True</td>\n",
       "    </tr>\n",
       "    <tr>\n",
       "      <th>3</th>\n",
       "      <td>8.8.4.4</td>\n",
       "      <td>None</td>\n",
       "      <td>None</td>\n",
       "      <td>None</td>\n",
       "      <td>NaN</td>\n",
       "      <td>NaN</td>\n",
       "      <td>None</td>\n",
       "      <td>True</td>\n",
       "      <td>London</td>\n",
       "      <td>True</td>\n",
       "    </tr>\n",
       "    <tr>\n",
       "      <th>4</th>\n",
       "      <td>invalid_ip</td>\n",
       "      <td>None</td>\n",
       "      <td>None</td>\n",
       "      <td>None</td>\n",
       "      <td>NaN</td>\n",
       "      <td>NaN</td>\n",
       "      <td>None</td>\n",
       "      <td>True</td>\n",
       "      <td>London</td>\n",
       "      <td>False</td>\n",
       "    </tr>\n",
       "  </tbody>\n",
       "</table>\n",
       "</div>"
      ],
      "text/plain": [
       "                     ip     city   region country  latitude  longitude  \\\n",
       "0               8.8.8.8     None     None    None       NaN        NaN   \n",
       "1               1.1.1.1     None     None    None       NaN        NaN   \n",
       "2  2606:4700:4700::1111  Toronto  Ontario  Canada   43.6561   -79.3406   \n",
       "3               8.8.4.4     None     None    None       NaN        NaN   \n",
       "4            invalid_ip     None     None    None       NaN        NaN   \n",
       "\n",
       "          timezone  valid Matched_City  IP_Valid_Format  \n",
       "0             None   True       London             True  \n",
       "1             None   True       London             True  \n",
       "2  America/Toronto   True       London             True  \n",
       "3             None   True       London             True  \n",
       "4             None   True       London            False  "
      ]
     },
     "execution_count": 126,
     "metadata": {},
     "output_type": "execute_result"
    }
   ],
   "source": [
    "# Final Cleaned API Dataset\n",
    "df.reset_index(drop=True, inplace=True)\n",
    "df_api_data = df\n",
    "df_api_data.head()"
   ]
  },
  {
   "cell_type": "markdown",
   "id": "12e60f25-b6a9-400d-99eb-68cd25b3acd7",
   "metadata": {},
   "source": [
    "**Ethical Reflection:**\n",
    "\n",
    "This notebook uses the ipapi.co API to fetch geolocation data for a list of sample IP addresses. \n",
    "Transformations included flattening JSON into tabular data, standardizing string formatting, filtering out invalid entries, removing duplicates, validating IP address format, latitude/longitude bounds, and duplicate geolocations, and applying fuzzy matching to city names. \n",
    "The API provides aggregate metadata without revealing personal details, but IP addresses can still be sensitive. \n",
    "Assumptions were made that invalid IPs return nulls and were dropped. The data source (ipapi.co) is publicly documented, and all queries respect ethical and rate-limiting guidelines. \n",
    "Potential risks include incorrect geolocation or inferring location from sensitive traffic, so fuzzy matching and validation filters are used transparently. \n",
    "Mitigation includes anonymizing IP addresses in final output and logging all transformations for reproducibility."
   ]
  },
  {
   "cell_type": "markdown",
   "id": "4a80ae65-0788-4dfc-aebd-8e0b29a6ced2",
   "metadata": {},
   "source": [
    "# Milestone 5 - Step 1: Merging Datasets into a Database and Joining"
   ]
  },
  {
   "cell_type": "code",
   "execution_count": 190,
   "id": "607aea8e-5804-4df5-aa6d-ae91244553f3",
   "metadata": {},
   "outputs": [],
   "source": [
    "import pandas as pd\n",
    "import numpy as np\n",
    "import sqlite3\n",
    "import matplotlib.pyplot as plt\n",
    "import seaborn as sns\n",
    "\n",
    "# Step 1: Connect to SQLite\n",
    "conn = sqlite3.connect(\"milestone5_final_project.db\")"
   ]
  },
  {
   "cell_type": "code",
   "execution_count": 192,
   "id": "6b5d650f-24a1-4764-8735-c94854a3c831",
   "metadata": {},
   "outputs": [
    {
     "data": {
      "text/plain": [
       "5"
      ]
     },
     "execution_count": 192,
     "metadata": {},
     "output_type": "execute_result"
    }
   ],
   "source": [
    "# Step 2: Store individual datasets into SQLite tables\n",
    "\n",
    "np.random.seed(42)\n",
    "df_credit_card['State'] = np.random.choice(df_web_data['State'], size=len(df_credit_card))\n",
    "df_credit_card.to_sql(\"credit_card\", conn, if_exists=\"replace\", index=False)\n",
    "df_web_data.to_sql(\"web_data\", conn, if_exists=\"replace\", index=False)\n",
    "df_api_data.to_sql(\"api_data\", conn, if_exists=\"replace\", index=False)"
   ]
  },
  {
   "cell_type": "code",
   "execution_count": 193,
   "id": "a460e945-0c91-4739-9452-28e79d4dc34d",
   "metadata": {},
   "outputs": [],
   "source": [
    "# Step 3: SQL JOIN - modify keys if needed\n",
    "query = \"\"\"\n",
    "SELECT *\n",
    "FROM credit_card cc\n",
    "\"\"\""
   ]
  },
  {
   "cell_type": "code",
   "execution_count": 196,
   "id": "d7e6d85f-8f50-44b5-b950-5007c51ffafe",
   "metadata": {},
   "outputs": [],
   "source": [
    "# Step 4: SQL Queries for Visualization DataFrames\n",
    "\n",
    "# Fraud count by state\n",
    "query1 = \"\"\"\n",
    "SELECT cc.State, COUNT(*) AS fraud_count, wd.Income_2023\n",
    "FROM credit_card cc\n",
    "JOIN web_data wd ON cc.State = wd.State\n",
    "WHERE cc.Class = 1\n",
    "GROUP BY cc.State\n",
    "ORDER BY fraud_count DESC\n",
    "\"\"\"\n",
    "viz1_df = pd.read_sql_query(query1, conn)\n",
    "\n",
    "# Average transaction by income\n",
    "query2 = \"\"\"\n",
    "SELECT wd.State, wd.Income_2023, AVG(cc.Transaction_Amount) AS avg_amount\n",
    "FROM credit_card cc\n",
    "JOIN web_data wd ON cc.State = wd.State\n",
    "GROUP BY wd.State, wd.Income_2023\n",
    "\"\"\"\n",
    "viz2_df = pd.read_sql_query(query2, conn)\n",
    "\n",
    "# Fraud rate vs income growth\n",
    "query3 = \"\"\"\n",
    "SELECT wd.State, wd.Calculated_Growth, \n",
    "       COUNT(CASE WHEN cc.Class = 1 THEN 1 END)*1.0 / COUNT(*) AS fraud_rate\n",
    "FROM credit_card cc\n",
    "JOIN web_data wd ON cc.State = wd.State\n",
    "GROUP BY wd.State, wd.Calculated_Growth\n",
    "\"\"\"\n",
    "viz3_df = pd.read_sql_query(query3, conn)\n",
    "\n",
    "# Total volume vs income\n",
    "query4 = \"\"\"\n",
    "SELECT wd.State, SUM(cc.Transaction_Amount) AS total_volume, wd.Income_2023\n",
    "FROM credit_card cc\n",
    "JOIN web_data wd ON cc.State = wd.State\n",
    "GROUP BY wd.State, wd.Income_2023\n",
    "\"\"\"\n",
    "viz4_df = pd.read_sql_query(query4, conn)\n",
    "\n",
    "# Use api_data directly\n",
    "df_api_data = pd.read_sql_query(\"SELECT * FROM api_data\", conn)\n"
   ]
  },
  {
   "cell_type": "markdown",
   "id": "9ae4dfe8-e4e4-4b4f-91c8-2915efbc291b",
   "metadata": {},
   "source": [
    "# Visualizations\n",
    "\n",
    "**Visualization 1:** Fraud Count by State\n",
    "\n",
    "**Description:**\n",
    "A bar chart showing the number of fraudulent credit card transactions per state.\n",
    "\n",
    "**Inference:**\n",
    "Some states show notably higher counts of fraud, but since the state assignments were simulated, the pattern is illustrative. If actual geolocation data were available, this could indicate geographic fraud hotspots requiring targeted interventions."
   ]
  },
  {
   "cell_type": "code",
   "execution_count": 198,
   "id": "401da347-8639-45e0-a0d9-68b3707f2e49",
   "metadata": {},
   "outputs": [
    {
     "data": {
      "image/png": "[encoded data removed]",
      "text/plain": [
       "<Figure size 1200x600 with 1 Axes>"
      ]
     },
     "metadata": {},
     "output_type": "display_data"
    }
   ],
   "source": [
    "# Step 5: Visualizations\n",
    "\n",
    "# 1. Fraud Count by State\n",
    "plt.figure(figsize=(12, 6))\n",
    "sns.barplot(data=viz1_df, x=\"State\", y=\"fraud_count\")\n",
    "plt.xticks(rotation=90)\n",
    "plt.title(\"Fraud Count by State\")\n",
    "plt.ylabel(\"Number of Frauds\")\n",
    "plt.xlabel(\"State\")\n",
    "plt.tight_layout()\n",
    "plt.show()"
   ]
  },
  {
   "cell_type": "markdown",
   "id": "e35d984f-315a-464e-be3b-903672fe1c0c",
   "metadata": {},
   "source": [
    "# Visualization 2: Average Transaction Amount vs State Income\n",
    "\n",
    "**Description:**\n",
    "A scatter plot comparing the average transaction amount in each state with the state’s median household income (2023).\n",
    "\n",
    "**Inference:**\n",
    "There’s a general upward trend—states with higher median incomes tend to show higher average transaction amounts. This supports the idea that spending behavior may correlate with regional income levels."
   ]
  },
  {
   "cell_type": "code",
   "execution_count": 200,
   "id": "6e2f95aa-90ac-42a3-980a-c48f32430e40",
   "metadata": {},
   "outputs": [
    {
     "data": {
      "image/png": "[encoded data removed]",
      "text/plain": [
       "<Figure size 1200x600 with 1 Axes>"
      ]
     },
     "metadata": {},
     "output_type": "display_data"
    }
   ],
   "source": [
    "# 2. Average Transaction Amount vs State Income\n",
    "plt.figure(figsize=(12, 6))\n",
    "sns.scatterplot(data=viz2_df, x=\"Income_2023\", y=\"avg_amount\", hue=\"State\", legend=False)\n",
    "plt.title(\"Average Transaction Amount vs State Income\")\n",
    "plt.xlabel(\"Income in 2023\")\n",
    "plt.ylabel(\"Avg Transaction Amount\")\n",
    "plt.tight_layout()\n",
    "plt.show()"
   ]
  },
  {
   "cell_type": "markdown",
   "id": "5f8a8318-d3d4-4fed-b53f-2014a547450f",
   "metadata": {},
   "source": [
    "# Visualization 3: Fraud Rate Distribution by Income Growth Band\n",
    "\n",
    "**Description:**\n",
    "A boxplot categorizing states into quartiles based on income growth, showing how fraud rates vary within each band.\n",
    "\n",
    "**Inference:**\n",
    "States with lower income growth bands showed slightly higher median fraud rates. This could suggest a socio-economic component to fraud occurrence, although the relationship isn’t strictly linear."
   ]
  },
  {
   "cell_type": "code",
   "execution_count": 208,
   "id": "d5ef58ef-0f29-42b3-8884-9e7d628b9bae",
   "metadata": {},
   "outputs": [
    {
     "data": {
      "image/png": "[encoded data removed]",
      "text/plain": [
       "<Figure size 1000x600 with 1 Axes>"
      ]
     },
     "metadata": {},
     "output_type": "display_data"
    }
   ],
   "source": [
    "# Visualization 3: Barplot of Fraud Rate by Income Growth Bands\n",
    "viz3_df['Growth_Band'] = pd.qcut(viz3_df['Calculated_Growth'], q=4, labels=[\"Low\", \"Med-Low\", \"Med-High\", \"High\"])\n",
    "\n",
    "plt.figure(figsize=(10, 6))\n",
    "sns.boxplot(data=viz3_df, x=\"Growth_Band\", y=\"fraud_rate\")\n",
    "plt.title(\"Fraud Rate Distribution by Income Growth Band\")\n",
    "plt.xlabel(\"Income Growth Band\")\n",
    "plt.ylabel(\"Fraud Rate\")\n",
    "plt.tight_layout()\n",
    "plt.show()"
   ]
  },
  {
   "cell_type": "markdown",
   "id": "62c5b01b-d8aa-4362-8a24-174b083c8db1",
   "metadata": {},
   "source": [
    "# Visualization 4: Correlation between Income and Total Transaction Volume\n",
    "\n",
    "**Description:**\n",
    "A scatter plot with a regression line showing how total transaction volume per state relates to its income.\n",
    "\n",
    "**Inference:**\n",
    "A positive correlation is visible—higher-income states often have greater total transaction volumes. This affirms the idea that income can influence total spending behavior in a region."
   ]
  },
  {
   "cell_type": "code",
   "execution_count": 212,
   "id": "0fd28d58-5921-4d9b-97e9-0d0df74eed39",
   "metadata": {},
   "outputs": [
    {
     "data": {
      "image/png": "[encoded data removed]",
      "text/plain": [
       "<Figure size 1000x600 with 1 Axes>"
      ]
     },
     "metadata": {},
     "output_type": "display_data"
    }
   ],
   "source": [
    "# Visualization 4: Scatter plot of Income vs Transaction Volume\n",
    "plt.figure(figsize=(10, 6))\n",
    "sns.regplot(data=viz4_df, x=\"Income_2023\", y=\"total_volume\")\n",
    "plt.title(\"Correlation between Income and Total Transaction Volume\")\n",
    "plt.xlabel(\"Income in 2023\")\n",
    "plt.ylabel(\"Total Transaction Volume\")\n",
    "plt.tight_layout()\n",
    "plt.show()"
   ]
  },
  {
   "cell_type": "markdown",
   "id": "99d038ba-e5af-45f3-b008-3fa69650c510",
   "metadata": {},
   "source": [
    "# Visualization 5: IP Count by Country (API Data)\n",
    "\n",
    "**Description:**\n",
    "A countplot showing the number of IP addresses identified per country using API-sourced geolocation.\n",
    "\n",
    "**Inference:**\n",
    "This visualization highlights the distribution of user locations based on IP data. While limited in scope, it could help validate whether the transactions are concentrated in expected regions or if anomalies exist."
   ]
  },
  {
   "cell_type": "code",
   "execution_count": 206,
   "id": "26415c42-efb1-4c78-a6d8-47d1c6819fa7",
   "metadata": {},
   "outputs": [
    {
     "data": {
      "image/png": "[encoded data removed]",
      "text/plain": [
       "<Figure size 800x500 with 1 Axes>"
      ]
     },
     "metadata": {},
     "output_type": "display_data"
    }
   ],
   "source": [
    "# 5. IP Count by Country\n",
    "plt.figure(figsize=(8, 5))\n",
    "sns.countplot(data=df_api_data, x='country')\n",
    "plt.title(\"IP Count by Country (API Data)\")\n",
    "plt.xlabel(\"Country\")\n",
    "plt.ylabel(\"Number of IPs\")\n",
    "plt.tight_layout()\n",
    "plt.show()"
   ]
  },
  {
   "cell_type": "code",
   "execution_count": 216,
   "id": "15f85004-5083-494d-9194-44328ca7f46a",
   "metadata": {},
   "outputs": [
    {
     "data": {
      "text/plain": [
       "(252041, 41)"
      ]
     },
     "execution_count": 216,
     "metadata": {},
     "output_type": "execute_result"
    }
   ],
   "source": [
    "# Create final merged dataset using SQL JOINs for readability and export\n",
    "final_merged_query = \"\"\"\n",
    "SELECT cc.*, wd.Income_2023, wd.Income_2022, wd.Income_2021, wd.Growth_Rate, wd.Calculated_Growth\n",
    "FROM credit_card cc\n",
    "LEFT JOIN web_data wd ON cc.State = wd.State\n",
    "\"\"\"\n",
    "final_merged_df = pd.read_sql_query(final_merged_query, conn)\n",
    "\n",
    "# Show dataset shape\n",
    "final_merged_df.shape"
   ]
  },
  {
   "cell_type": "code",
   "execution_count": 218,
   "id": "1f6c28a7-675e-412a-ac1b-334cfedf33d2",
   "metadata": {},
   "outputs": [
    {
     "data": {
      "text/html": [
       "<div>\n",
       "<style scoped>\n",
       "    .dataframe tbody tr th:only-of-type {\n",
       "        vertical-align: middle;\n",
       "    }\n",
       "\n",
       "    .dataframe tbody tr th {\n",
       "        vertical-align: top;\n",
       "    }\n",
       "\n",
       "    .dataframe thead th {\n",
       "        text-align: right;\n",
       "    }\n",
       "</style>\n",
       "<table border=\"1\" class=\"dataframe\">\n",
       "  <thead>\n",
       "    <tr style=\"text-align: right;\">\n",
       "      <th></th>\n",
       "      <th>Transaction_Time</th>\n",
       "      <th>V1</th>\n",
       "      <th>V2</th>\n",
       "      <th>V3</th>\n",
       "      <th>V4</th>\n",
       "      <th>V5</th>\n",
       "      <th>V6</th>\n",
       "      <th>V7</th>\n",
       "      <th>V8</th>\n",
       "      <th>V9</th>\n",
       "      <th>...</th>\n",
       "      <th>Amount_Bin</th>\n",
       "      <th>High_Amount_Flag</th>\n",
       "      <th>Night_Transaction</th>\n",
       "      <th>Scaled_Amount</th>\n",
       "      <th>State</th>\n",
       "      <th>Income_2023</th>\n",
       "      <th>Income_2022</th>\n",
       "      <th>Income_2021</th>\n",
       "      <th>Growth_Rate</th>\n",
       "      <th>Calculated_Growth</th>\n",
       "    </tr>\n",
       "  </thead>\n",
       "  <tbody>\n",
       "    <tr>\n",
       "      <th>0</th>\n",
       "      <td>0.0</td>\n",
       "      <td>-1.359807</td>\n",
       "      <td>-0.072781</td>\n",
       "      <td>2.536347</td>\n",
       "      <td>1.378155</td>\n",
       "      <td>-0.338321</td>\n",
       "      <td>0.462388</td>\n",
       "      <td>0.239599</td>\n",
       "      <td>0.098698</td>\n",
       "      <td>0.363787</td>\n",
       "      <td>...</td>\n",
       "      <td>High</td>\n",
       "      <td>0</td>\n",
       "      <td>1</td>\n",
       "      <td>2.703663</td>\n",
       "      <td>Indiana</td>\n",
       "      <td>69477.0</td>\n",
       "      <td>66785.0</td>\n",
       "      <td>62743.0</td>\n",
       "      <td>3.87</td>\n",
       "      <td>4.030845</td>\n",
       "    </tr>\n",
       "    <tr>\n",
       "      <th>1</th>\n",
       "      <td>0.0</td>\n",
       "      <td>1.191857</td>\n",
       "      <td>0.266151</td>\n",
       "      <td>0.166480</td>\n",
       "      <td>0.448154</td>\n",
       "      <td>0.060018</td>\n",
       "      <td>-0.082361</td>\n",
       "      <td>-0.078803</td>\n",
       "      <td>0.085102</td>\n",
       "      <td>-0.255425</td>\n",
       "      <td>...</td>\n",
       "      <td>Low</td>\n",
       "      <td>0</td>\n",
       "      <td>1</td>\n",
       "      <td>-0.765542</td>\n",
       "      <td>Mississippi</td>\n",
       "      <td>54203.0</td>\n",
       "      <td>52719.0</td>\n",
       "      <td>48716.0</td>\n",
       "      <td>3.63</td>\n",
       "      <td>2.814924</td>\n",
       "    </tr>\n",
       "    <tr>\n",
       "      <th>2</th>\n",
       "      <td>1.0</td>\n",
       "      <td>-0.966272</td>\n",
       "      <td>-0.185226</td>\n",
       "      <td>1.792993</td>\n",
       "      <td>-0.863291</td>\n",
       "      <td>-0.010309</td>\n",
       "      <td>1.247203</td>\n",
       "      <td>0.237609</td>\n",
       "      <td>0.377436</td>\n",
       "      <td>-1.387024</td>\n",
       "      <td>...</td>\n",
       "      <td>High</td>\n",
       "      <td>0</td>\n",
       "      <td>1</td>\n",
       "      <td>2.086937</td>\n",
       "      <td>Nebraska</td>\n",
       "      <td>74590.0</td>\n",
       "      <td>69597.0</td>\n",
       "      <td>66817.0</td>\n",
       "      <td>3.79</td>\n",
       "      <td>7.174160</td>\n",
       "    </tr>\n",
       "    <tr>\n",
       "      <th>3</th>\n",
       "      <td>2.0</td>\n",
       "      <td>-1.158233</td>\n",
       "      <td>0.877737</td>\n",
       "      <td>1.548718</td>\n",
       "      <td>0.403034</td>\n",
       "      <td>-0.407193</td>\n",
       "      <td>0.095921</td>\n",
       "      <td>0.592941</td>\n",
       "      <td>-0.270533</td>\n",
       "      <td>0.817739</td>\n",
       "      <td>...</td>\n",
       "      <td>High</td>\n",
       "      <td>0</td>\n",
       "      <td>1</td>\n",
       "      <td>0.823497</td>\n",
       "      <td>Minnesota</td>\n",
       "      <td>85086.0</td>\n",
       "      <td>82338.0</td>\n",
       "      <td>77720.0</td>\n",
       "      <td>3.43</td>\n",
       "      <td>3.337463</td>\n",
       "    </tr>\n",
       "    <tr>\n",
       "      <th>4</th>\n",
       "      <td>2.0</td>\n",
       "      <td>-0.425966</td>\n",
       "      <td>0.960523</td>\n",
       "      <td>1.141109</td>\n",
       "      <td>-0.168252</td>\n",
       "      <td>0.420987</td>\n",
       "      <td>-0.029728</td>\n",
       "      <td>0.476201</td>\n",
       "      <td>0.260314</td>\n",
       "      <td>-0.568671</td>\n",
       "      <td>...</td>\n",
       "      <td>Low</td>\n",
       "      <td>0</td>\n",
       "      <td>1</td>\n",
       "      <td>-0.742403</td>\n",
       "      <td>Ohio</td>\n",
       "      <td>67769.0</td>\n",
       "      <td>65720.0</td>\n",
       "      <td>62262.0</td>\n",
       "      <td>3.49</td>\n",
       "      <td>3.117772</td>\n",
       "    </tr>\n",
       "  </tbody>\n",
       "</table>\n",
       "<p>5 rows × 41 columns</p>\n",
       "</div>"
      ],
      "text/plain": [
       "   Transaction_Time        V1        V2        V3        V4        V5  \\\n",
       "0               0.0 -1.359807 -0.072781  2.536347  1.378155 -0.338321   \n",
       "1               0.0  1.191857  0.266151  0.166480  0.448154  0.060018   \n",
       "2               1.0 -0.966272 -0.185226  1.792993 -0.863291 -0.010309   \n",
       "3               2.0 -1.158233  0.877737  1.548718  0.403034 -0.407193   \n",
       "4               2.0 -0.425966  0.960523  1.141109 -0.168252  0.420987   \n",
       "\n",
       "         V6        V7        V8        V9  ...  Amount_Bin  High_Amount_Flag  \\\n",
       "0  0.462388  0.239599  0.098698  0.363787  ...        High                 0   \n",
       "1 -0.082361 -0.078803  0.085102 -0.255425  ...         Low                 0   \n",
       "2  1.247203  0.237609  0.377436 -1.387024  ...        High                 0   \n",
       "3  0.095921  0.592941 -0.270533  0.817739  ...        High                 0   \n",
       "4 -0.029728  0.476201  0.260314 -0.568671  ...         Low                 0   \n",
       "\n",
       "   Night_Transaction  Scaled_Amount        State  Income_2023  Income_2022  \\\n",
       "0                  1       2.703663      Indiana      69477.0      66785.0   \n",
       "1                  1      -0.765542  Mississippi      54203.0      52719.0   \n",
       "2                  1       2.086937     Nebraska      74590.0      69597.0   \n",
       "3                  1       0.823497    Minnesota      85086.0      82338.0   \n",
       "4                  1      -0.742403         Ohio      67769.0      65720.0   \n",
       "\n",
       "   Income_2021  Growth_Rate  Calculated_Growth  \n",
       "0      62743.0         3.87           4.030845  \n",
       "1      48716.0         3.63           2.814924  \n",
       "2      66817.0         3.79           7.174160  \n",
       "3      77720.0         3.43           3.337463  \n",
       "4      62262.0         3.49           3.117772  \n",
       "\n",
       "[5 rows x 41 columns]"
      ]
     },
     "execution_count": 218,
     "metadata": {},
     "output_type": "execute_result"
    }
   ],
   "source": [
    "# Show dataset head\n",
    "\n",
    "final_merged_df.head()"
   ]
  },
  {
   "cell_type": "code",
   "execution_count": null,
   "id": "98ef3803-b1d0-42af-bd4a-3086d569916e",
   "metadata": {},
   "outputs": [],
   "source": []
  }
 ],
 "metadata": {
  "kernelspec": {
   "display_name": "Python 3 (ipykernel)",
   "language": "python",
   "name": "python3"
  },
  "language_info": {
   "codemirror_mode": {
    "name": "ipython",
    "version": 3
   },
   "file_extension": ".py",
   "mimetype": "text/x-python",
   "name": "python",
   "nbconvert_exporter": "python",
   "pygments_lexer": "ipython3",
   "version": "3.12.7"
  }
 },
 "nbformat": 4,
 "nbformat_minor": 5
}
